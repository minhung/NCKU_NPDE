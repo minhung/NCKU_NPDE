{
 "cells": [
  {
   "cell_type": "markdown",
   "metadata": {},
   "source": [
    "# Finite difference approximations"
   ]
  },
  {
   "cell_type": "markdown",
   "metadata": {},
   "source": [
    "Finite di\u000b",
    "erence approximations\n",
    "\n",
    "這個章節是在簡介以有限差分法近似微分。首先介紹幾個簡單的差分法$D_+$、$D_-$以及$D_0$\n",
    "\n",
    "\\begin{eqnarray}\n",
    "D_+u(\\hat{u}) &=& \\frac{u(\\hat{x}+h)-u(\\hat{x})}{h}\\\\\n",
    "D_-u(\\hat{u}) &=& \\frac{u(\\hat{x})-u(\\hat{x}-h)}{h}\\\\\n",
    "D_0u(\\hat{u}) &=& \\frac{u(\\hat{x}+h)-u(\\hat{x}-h)}{2h}\\\\\n",
    "\\end{eqnarray}"
   ]
  },
  {
   "cell_type": "markdown",
   "metadata": {},
   "source": [
    "在使用python計算之前，我們先引入幾個函式庫：\n",
    "* scipy: 科學計算常用的函式 (底下的引用，將會引入數值積分函數，不過我們暫時不會用到)\n",
    "* matplotlib: 繪圖用 (頻繁使用的函式庫)\n",
    "* numpy: 快速處理數據"
   ]
  },
  {
   "cell_type": "code",
   "execution_count": 2,
   "metadata": {
    "collapsed": true
   },
   "outputs": [],
   "source": [
    "from scipy.integrate import odeint\n",
    "import matplotlib.pyplot as plt\n",
    "import numpy as np\n",
    "%matplotlib inline"
   ]
  },
  {
   "cell_type": "markdown",
   "metadata": {},
   "source": [
    "上述的使用函式庫方式，在使用numpy函式庫時，可以用np簡稱。比方說我們要顯示$\\pi$值"
   ]
  },
  {
   "cell_type": "code",
   "execution_count": 3,
   "metadata": {
    "collapsed": false
   },
   "outputs": [
    {
     "name": "stdout",
     "output_type": "stream",
     "text": [
      "3.14159265359\n"
     ]
    }
   ],
   "source": [
    "print np.pi"
   ]
  },
  {
   "cell_type": "markdown",
   "metadata": {},
   "source": [
    "或是要顯示$\\sin{\\pi}$"
   ]
  },
  {
   "cell_type": "code",
   "execution_count": 4,
   "metadata": {
    "collapsed": false
   },
   "outputs": [
    {
     "name": "stdout",
     "output_type": "stream",
     "text": [
      "1.22464679915e-16\n"
     ]
    }
   ],
   "source": [
    "print np.sin(np.pi)"
   ]
  },
  {
   "cell_type": "markdown",
   "metadata": {},
   "source": [
    "### Note 格式化輸出範例"
   ]
  },
  {
   "cell_type": "code",
   "execution_count": 5,
   "metadata": {
    "collapsed": false
   },
   "outputs": [
    {
     "name": "stdout",
     "output_type": "stream",
     "text": [
      "The Value is 3.141593\n"
     ]
    }
   ],
   "source": [
    "mystr =  'The Value is {:.6f}'\n",
    "print mystr.format(np.pi)"
   ]
  },
  {
   "cell_type": "code",
   "execution_count": 6,
   "metadata": {
    "collapsed": false
   },
   "outputs": [
    {
     "name": "stdout",
     "output_type": "stream",
     "text": [
      "The values are 1.22465e-16 and 2.718282\n"
     ]
    }
   ],
   "source": [
    "mystr2 =  'The values are {:.6g} and {:.6f}'\n",
    "print mystr2.format(np.sin(np.pi),np.e)"
   ]
  },
  {
   "cell_type": "markdown",
   "metadata": {},
   "source": [
    "接著我們定義函數$u(x)$，之後我們就可以直接使用此函數。注意定義的方式"
   ]
  },
  {
   "cell_type": "code",
   "execution_count": 7,
   "metadata": {
    "collapsed": false
   },
   "outputs": [],
   "source": [
    "def u(x):\n",
    "    uval = np.sin(x)\n",
    "    return uval\n",
    "\n",
    "def udiff(x):\n",
    "    duval = np.cos(x)\n",
    "    return duval"
   ]
  },
  {
   "cell_type": "markdown",
   "metadata": {},
   "source": [
    "簡單測試一下是否能正確呼叫$u(x)$"
   ]
  },
  {
   "cell_type": "code",
   "execution_count": 8,
   "metadata": {
    "collapsed": false
   },
   "outputs": [
    {
     "name": "stdout",
     "output_type": "stream",
     "text": [
      "1.22464679915e-16\n"
     ]
    }
   ],
   "source": [
    "print u(np.pi)"
   ]
  },
  {
   "cell_type": "markdown",
   "metadata": {},
   "source": [
    "接著我們定義三個差分函數$D_+$、$D_-$以及$D_0$"
   ]
  },
  {
   "cell_type": "code",
   "execution_count": 9,
   "metadata": {
    "collapsed": true
   },
   "outputs": [],
   "source": [
    "def up(x,h):\n",
    "    upval = (u(x+h)-u(x))/h\n",
    "    return upval\n",
    "\n",
    "def um(x,h):\n",
    "    umval = (u(x)-u(x-h))/h\n",
    "    return umval\n",
    "\n",
    "def u0(x,h):\n",
    "    u0val = (u(x+h)-u(x-h))/(2*h)\n",
    "    return u0val\n",
    "\n",
    "def u3(x,h):\n",
    "    u3val = (2*u(x+h)+3*u(x)-6*u(x-h)+u(x-2*h))/(6*h)\n",
    "    return u3val"
   ]
  },
  {
   "cell_type": "code",
   "execution_count": 10,
   "metadata": {
    "collapsed": false
   },
   "outputs": [
    {
     "name": "stdout",
     "output_type": "stream",
     "text": [
      "-0.0429385533328\n",
      "0.041138445936\n",
      "-0.00090005369838\n",
      "6.82069338306e-05\n"
     ]
    }
   ],
   "source": [
    "print up(1,0.1)-udiff(1)\n",
    "print um(1,0.1)-udiff(1)\n",
    "print u0(1,0.1)-udiff(1)\n",
    "print u3(1,0.1)-udiff(1)"
   ]
  },
  {
   "cell_type": "markdown",
   "metadata": {},
   "source": [
    "以上這些值可以和講義上的結果比較。\n"
   ]
  },
  {
   "cell_type": "code",
   "execution_count": 11,
   "metadata": {
    "collapsed": false
   },
   "outputs": [
    {
     "name": "stdout",
     "output_type": "stream",
     "text": [
      "h         D+         D-         D0         D3\n",
      "-0.0429385533328 0.041138445936 -0.00090005369838 6.82069338306e-05\n",
      "-0.0212574901457 0.0208072945023 -0.000225097821707 8.64914174081e-06\n",
      "-0.00421632485627 0.00419831486946 -9.00499340617e-06 6.99412994187e-08\n",
      "-0.00210592433618 0.00210142182256 -2.25125680842e-06 8.75399974731e-09\n",
      "-4.20744495185e-05 4.20726486597e-05 -9.0042939771e-10 -2.2359891716e-13\n"
     ]
    }
   ],
   "source": [
    "h_lst = [0.1, 0.05, 0.01, 0.005, 0.0001]\n",
    "print \"h         D+         D-         D0         D3\"\n",
    "for h in h_lst:\n",
    "    errp = up(1,h)-udiff(1)\n",
    "    errm = um(1,h)-udiff(1)\n",
    "    err0 = u0(1,h)-udiff(1)\n",
    "    err3 = u3(1,h)-udiff(1)\n",
    "    print errp, errm, err0, err3\n"
   ]
  },
  {
   "cell_type": "markdown",
   "metadata": {},
   "source": [
    "底下的寫法是使用numpy功能來進行向量式計算，最後以迴圈方式顯示。"
   ]
  },
  {
   "cell_type": "code",
   "execution_count": 12,
   "metadata": {
    "collapsed": false
   },
   "outputs": [
    {
     "name": "stdout",
     "output_type": "stream",
     "text": [
      "h         D+         D-         D0         D3\n",
      "0.1 -0.0429385533328 0.041138445936 -0.00090005369838 6.82069338306e-05\n",
      "0.05 -0.0212574901457 0.0208072945023 -0.000225097821707 8.64914174081e-06\n",
      "0.01 -0.00421632485627 0.00419831486946 -9.00499340617e-06 6.99412994187e-08\n",
      "0.005 -0.00210592433618 0.00210142182256 -2.25125680842e-06 8.75399974731e-09\n",
      "0.0001 -4.20744495185e-05 4.20726486597e-05 -9.0042939771e-10 -2.2359891716e-13\n"
     ]
    }
   ],
   "source": [
    "h_lst = np.array([0.1, 0.05, 0.01, 0.005, 0.0001])\n",
    "errp = np.zeros(len(h_lst))\n",
    "print \"h         D+         D-         D0         D3\"\n",
    "errp = up(1,h_lst)-udiff(1)\n",
    "errm = um(1,h_lst)-udiff(1)\n",
    "err0 = u0(1,h_lst)-udiff(1)\n",
    "err3 = u3(1,h_lst)-udiff(1)\n",
    "\n",
    "for ii in range(len(h_lst)):\n",
    "    print h_lst[ii],errp[ii],errm[ii],err0[ii],err3[ii]"
   ]
  },
  {
   "cell_type": "code",
   "execution_count": 13,
   "metadata": {
    "collapsed": false,
    "scrolled": true
   },
   "outputs": [
    {
     "data": {
      "image/png": "[encoded data removed]",
      "text/plain": [
       "<matplotlib.figure.Figure at 0x1224fe48>"
      ]
     },
     "metadata": {},
     "output_type": "display_data"
    }
   ],
   "source": [
    "plt.loglog(h_lst,abs(errp),label=\"D+\")\n",
    "plt.loglog(h_lst,abs(err0),label=\"D0\")\n",
    "plt.loglog(h_lst,abs(err3),label=\"D3\")\n",
    "plt.legend()\n",
    "plt.title('Error')\n",
    "\n",
    "plt.show() "
   ]
  },
  {
   "cell_type": "markdown",
   "metadata": {},
   "source": [
    "### Rate of Convergence (Curve Fitting)\n",
    "* http://scipy.github.io/old-wiki/pages/Cookbook/FittingData"
   ]
  },
  {
   "cell_type": "code",
   "execution_count": 14,
   "metadata": {
    "collapsed": false
   },
   "outputs": [
    {
     "name": "stdout",
     "output_type": "stream",
     "text": [
      "[ -7.01305613  -8.39897549 -11.61773131 -13.00402192 -20.82814936]\n",
      "[-2.30258509 -2.99573227 -4.60517019 -5.29831737 -9.21034037]\n",
      "[ 1.99995997 -2.40772419]\n",
      "[[  1.41300206e-09   6.89888226e-09]\n",
      " [  6.89888226e-09   4.19340681e-08]]\n"
     ]
    }
   ],
   "source": [
    "logE = np.log(abs(err0))\n",
    "logh = np.log(h_lst)\n",
    "# Initial guess.\n",
    "x0    = np.array([0.0, 0.0, 0.0])\n",
    "\n",
    "import scipy.optimize as optimization\n",
    "def func(x, p, c):\n",
    "    return p*x + c\n",
    "print logE\n",
    "print logh\n",
    "myresult =  optimization.curve_fit(func, logh, logE)\n",
    "print myresult[0]\n",
    "print myresult[1]\n"
   ]
  },
  {
   "cell_type": "code",
   "execution_count": 18,
   "metadata": {
    "collapsed": false
   },
   "outputs": [
    {
     "name": "stdout",
     "output_type": "stream",
     "text": [
      "(array([-2.40772419,  1.99995997]), 3)\n"
     ]
    }
   ],
   "source": [
    "\n",
    "xdata = np.transpose(np.array([[1.0,1.0,1.0,1.0,1.0,1.0],\n",
    "              [0.0,1.0,2.0,3.0,4.0,5.0]]))\n",
    "#print xdata\n",
    "#print h_lst\n",
    "a = np.ones(len(h_lst))\n",
    "b = logh\n",
    "xdata = np.transpose(np.vstack((a,b)))\n",
    "ydata = logE\n",
    "x0 = np.array([0.0,0.0])\n",
    "#print xdata\n",
    "def func2(params, xdata, ydata):\n",
    "    return (ydata - np.dot(xdata, params))\n",
    "\n",
    "myresult2 = optimization.leastsq(func2, x0,args=(xdata, ydata))\n",
    "print myresult2"
   ]
  },
  {
   "cell_type": "markdown",
   "metadata": {},
   "source": [
    "底下內容是尚未修改內容，請忽略。"
   ]
  },
  {
   "cell_type": "code",
   "execution_count": 2,
   "metadata": {
    "collapsed": false
   },
   "outputs": [],
   "source": [
    "alpha=0.1\n",
    "beta=0.015\n",
    "gamma=0.0225\n",
    "delta=0.02\n",
    "def system(z,t):\n",
    "    x,y=z[0],z[1]\n",
    "    dxdt= x*(alpha-beta*y)\n",
    "    dydt=-y*(gamma-delta*x)\n",
    "    return [dxdt,dydt]\n",
    "\n",
    "t=np.linspace(0,300.,1000)\n",
    "x0,y0=1.0,1.0\n",
    "sol=odeint(system,[x0,y0],t)"
   ]
  },
  {
   "cell_type": "markdown",
   "metadata": {},
   "source": [
    "底下是以matplotlib將得到的數值解匯出，首先是在相平面作圖："
   ]
  },
  {
   "cell_type": "code",
   "execution_count": 3,
   "metadata": {
    "collapsed": false
   },
   "outputs": [
    {
     "data": {
      "image/png": "[encoded data removed]",
      "text/plain": [
       "<matplotlib.figure.Figure at 0x35f5590>"
      ]
     },
     "metadata": {},
     "output_type": "display_data"
    }
   ],
   "source": [
    "X,Y=sol[:,0],sol[:,1]\n",
    "plt.plot(X,Y)\n",
    "plt.show() "
   ]
  },
  {
   "cell_type": "markdown",
   "metadata": {},
   "source": [
    "底下是x、y對t作圖，其中x的圖形以紅色(r)表示，y的圖形以藍色(b)表示。"
   ]
  },
  {
   "cell_type": "code",
   "execution_count": 4,
   "metadata": {
    "collapsed": false
   },
   "outputs": [
    {
     "data": {
      "image/png": "[encoded data removed]",
      "text/plain": [
       "<matplotlib.figure.Figure at 0x3864290>"
      ]
     },
     "metadata": {},
     "output_type": "display_data"
    }
   ],
   "source": [
    "px, = plt.plot(t,X,'r-')\n",
    "py, = plt.plot(t,Y,'b-')\n",
    "plt.xlabel(\"t\")   \n",
    "plt.ylabel(\"x,y\") \n",
    "plt.legend([px,py],[\"x\",\"y\"])\n",
    "plt.show() "
   ]
  },
  {
   "cell_type": "markdown",
   "metadata": {},
   "source": [
    "底下是另一個簡單的例子"
   ]
  },
  {
   "cell_type": "code",
   "execution_count": 5,
   "metadata": {
    "collapsed": false
   },
   "outputs": [
    {
     "data": {
      "image/png": "[encoded data removed]",
      "text/plain": [
       "<matplotlib.figure.Figure at 0x385f590>"
      ]
     },
     "metadata": {},
     "output_type": "display_data"
    }
   ],
   "source": [
    "from scipy.integrate import odeint\n",
    "import matplotlib.pyplot as plt\n",
    "import numpy as np\n",
    "%matplotlib inline\n",
    "pi = np.pi\n",
    "sqrt = np.sqrt\n",
    "cos = np.cos\n",
    "sin = np.sin\n",
    "\n",
    "def deriv_z(z, phi):\n",
    "    u, udot = z\n",
    "    return [udot, -u + sqrt(u)]\n",
    "\n",
    "phi = np.linspace(0, 7.0*pi, 2000)\n",
    "zinit = [1.49907, 0]\n",
    "z = odeint(deriv_z, zinit, phi)\n",
    "u, udot = z.T\n",
    "# plt.plot(phi, u)\n",
    "fig, ax = plt.subplots()\n",
    "ax.plot(1/u*cos(phi), 1/u*sin(phi))\n",
    "ax.set_aspect('equal')\n",
    "plt.grid(True)\n",
    "plt.show()"
   ]
  },
  {
   "cell_type": "markdown",
   "metadata": {},
   "source": [
    "<li>SciPy-數值計算庫：http://myshare.dscloud.me/scipydoc/scipy_intro.html</li>\n",
    "<li>繪圖指令請參考： http://onionys.blogspot.tw/2012/01/python-matplotlib.html</li>\n",
    "<li>更多的matplotlib： http://nbviewer.ipython.org/github/c3h3/NCCU-PyData-Courses-2013Spring/blob/master/Lecture4/visualization/BasicMatplotlib.ipynb</li>"
   ]
  },
  {
   "cell_type": "code",
   "execution_count": 5,
   "metadata": {
    "collapsed": false
   },
   "outputs": [],
   "source": []
  },
  {
   "cell_type": "code",
   "execution_count": 5,
   "metadata": {
    "collapsed": false
   },
   "outputs": [],
   "source": []
  },
  {
   "cell_type": "code",
   "execution_count": 5,
   "metadata": {
    "collapsed": false
   },
   "outputs": [],
   "source": []
  }
 ],
 "metadata": {
  "kernelspec": {
   "display_name": "Python 2",
   "language": "python",
   "name": "python2"
  },
  "language_info": {
   "codemirror_mode": {
    "name": "ipython",
    "version": 2
   },
   "file_extension": ".py",
   "mimetype": "text/x-python",
   "name": "python",
   "nbconvert_exporter": "python",
   "pygments_lexer": "ipython2",
   "version": "2.7.9"
  }
 },
 "nbformat": 4,
 "nbformat_minor": 0
}
